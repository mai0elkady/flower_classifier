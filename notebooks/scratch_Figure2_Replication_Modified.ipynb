{
  "nbformat": 4,
  "nbformat_minor": 0,
  "metadata": {
    "kernelspec": {
      "display_name": "Python 3",
      "language": "python",
      "name": "python3"
    },
    "language_info": {
      "codemirror_mode": {
        "name": "ipython",
        "version": 3
      },
      "file_extension": ".py",
      "mimetype": "text/x-python",
      "name": "python",
      "nbconvert_exporter": "python",
      "pygments_lexer": "ipython3",
      "version": "3.7.5"
    },
    "colab": {
      "name": "scratch_Figure2_Replication_Modified.ipynb",
      "provenance": [],
      "include_colab_link": true
    }
  },
  "cells": [
    {
      "cell_type": "markdown",
      "metadata": {
        "id": "view-in-github",
        "colab_type": "text"
      },
      "source": [
        "<a href=\"https://colab.research.google.com/github/mai0elkady/flower_classifier/blob/master/notebooks/scratch_Figure2_Replication_Modified.ipynb\" target=\"_parent\"><img src=\"https://colab.research.google.com/assets/colab-badge.svg\" alt=\"Open In Colab\"/></a>"
      ]
    },
    {
      "cell_type": "code",
      "metadata": {
        "colab": {
          "base_uri": "https://localhost:8080/"
        },
        "id": "zShfAvv6dPOz",
        "outputId": "00c7c945-1ae9-4313-aa35-4a52fca35a67"
      },
      "source": [
        "from google.colab import drive\n",
        "drive.mount('/content/gdrive')"
      ],
      "execution_count": 1,
      "outputs": [
        {
          "output_type": "stream",
          "text": [
            "Drive already mounted at /content/gdrive; to attempt to forcibly remount, call drive.mount(\"/content/gdrive\", force_remount=True).\n"
          ],
          "name": "stdout"
        }
      ]
    },
    {
      "cell_type": "code",
      "metadata": {
        "colab": {
          "base_uri": "https://localhost:8080/"
        },
        "id": "EhvEDEChdHbC",
        "outputId": "b488beca-b6dd-437b-ab4c-68821f2dc0c6"
      },
      "source": [
        "%cd gdrive/My Drive/discrete_flows/PyTorchDiscreteFlows/\r\n",
        "# this contains code cloned from: https://github.com/TrentBrick/PyTorchDiscreteFlows"
      ],
      "execution_count": 2,
      "outputs": [
        {
          "output_type": "stream",
          "text": [
            "/content/gdrive/My Drive/discrete_flows/PyTorchDiscreteFlows\n"
          ],
          "name": "stdout"
        }
      ]
    },
    {
      "cell_type": "code",
      "metadata": {
        "colab": {
          "base_uri": "https://localhost:8080/"
        },
        "id": "waMPZLuJg1Li",
        "outputId": "ad7e7f67-3fa5-4e10-a282-6b72930e504f"
      },
      "source": [
        "from platform import python_version\n",
        "\n",
        "print(python_version())\n",
        "STATE_PATH = 'checkpoint_for_training.pth'"
      ],
      "execution_count": 3,
      "outputs": [
        {
          "output_type": "stream",
          "text": [
            "3.6.9\n"
          ],
          "name": "stdout"
        }
      ]
    },
    {
      "cell_type": "markdown",
      "metadata": {
        "id": "l8UbopcQcxpl"
      },
      "source": [
        "Parts of this notebook are taken from Andre Karpathy: https://github.com/karpathy/pytorch-normalizing-flows/blob/master/nflib1.ipynb\n",
        "and have been modified. \n",
        "\n",
        "Using the Embedding rather than an MLP was acknowledged by Jan Francu and Yashas Annadani who I am grateful to. "
      ]
    },
    {
      "cell_type": "code",
      "metadata": {
        "colab": {
          "base_uri": "https://localhost:8080/"
        },
        "id": "psLcAxZgcxpm",
        "outputId": "f0158acc-8e49-49da-b723-28c9f784c10c"
      },
      "source": [
        "%matplotlib inline\n",
        "import numpy as np\n",
        "import matplotlib.pyplot as plt\n",
        "from matplotlib import cm\n",
        "from matplotlib import figure\n",
        "from matplotlib.backends import backend_agg\n",
        "from scipy.stats import multivariate_normal\n",
        "import torch\n",
        "import itertools\n",
        "import random\n",
        "import os\n",
        "print(np.__version__)\n",
        "print(torch.__version__)"
      ],
      "execution_count": 4,
      "outputs": [
        {
          "output_type": "stream",
          "text": [
            "1.18.5\n",
            "1.7.0+cu101\n"
          ],
          "name": "stdout"
        }
      ]
    },
    {
      "cell_type": "code",
      "metadata": {
        "id": "Oc9otK38cxpm"
      },
      "source": [
        "# importing all of the normalizing flows. \n",
        "import discrete_flows.disc_utils \n",
        "from discrete_flows.made import MADE\n",
        "from discrete_flows.mlp import MLP\n",
        "from discrete_flows.embed import EmbeddingLayer\n",
        "from discrete_flows.disc_models import *"
      ],
      "execution_count": 5,
      "outputs": []
    },
    {
      "cell_type": "code",
      "metadata": {
        "id": "otRFNqz_cxpm"
      },
      "source": [
        "# will autoupdate any of the packages imported:\n",
        "%load_ext autoreload\n",
        "%autoreload 2"
      ],
      "execution_count": 6,
      "outputs": []
    },
    {
      "cell_type": "code",
      "metadata": {
        "id": "jGADlEQSe3BQ"
      },
      "source": [
        "seed = 42\n",
        "test_exp_paper = 1\n",
        "use_flows = 1\n",
        "torch.manual_seed(seed)\n",
        "torch.cuda.manual_seed(seed)\n",
        "torch.cuda.manual_seed_all(seed)  # if you are using multi-GPU.\n",
        "np.random.seed(seed)  # Numpy module.\n",
        "random.seed(seed)  # Python random module.\n",
        "torch.manual_seed(seed)\n",
        "torch.backends.cudnn.benchmark = False\n",
        "torch.backends.cudnn.deterministic = True\n",
        "os.environ['PYTHONHASHSEED'] = str(seed)"
      ],
      "execution_count": 7,
      "outputs": []
    },
    {
      "cell_type": "markdown",
      "metadata": {
        "id": "yuT5UQUYj-vj"
      },
      "source": [
        "##Generating the training data. According to 4.1 in the DF paper.\n",
        "Storing the data as variable \"data\" which will then be sampled from."
      ]
    },
    {
      "cell_type": "code",
      "metadata": {
        "id": "tZqBd0rOkIkm"
      },
      "source": [
        "def create_syn_data_paper(k,d,n_samples,rnd_seed):\n",
        "  np.random.seed(rnd_seed)\n",
        "  orig_probs = np.random.dirichlet(np.ones(k**d))\n",
        "  X_train_coded = np.random.choice(k**d, size=n_samples, p=orig_probs) #for k=2 and d=2, X_train_coded = {0,1,2,3,2,3,0,...}\n",
        "  return orig_probs,X_train_coded\n",
        "\n",
        "\n",
        "# Create binary matrix from integer values\n",
        "def get_possible(n_features):\n",
        "    k = 2\n",
        "    y_possible = np.arange(n_features**k)\n",
        "    possible_values = np.unpackbits(y_possible.astype(np.uint8).reshape(-1, 1), axis=1)\n",
        "    possible_values = possible_values[:, -n_features:] # Remove extra zero columns\n",
        "    return possible_values\n",
        "    \n",
        "def dec_to_bin(data,n_features):\n",
        "  possible_bin_values = get_possible(n_features)\n",
        "  result = possible_bin_values[data]\n",
        "  return np.array(result)\n"
      ],
      "execution_count": 8,
      "outputs": []
    },
    {
      "cell_type": "code",
      "metadata": {
        "id": "5aFmUEutdWIl"
      },
      "source": [
        "def calculate_joint(data):\r\n",
        "  alpha = 10**(-6)\r\n",
        "  n,d = data.shape\r\n",
        "  possible_values = get_possible(n_features=d)\r\n",
        "  joint_p = {}\r\n",
        "\r\n",
        "  for item in data:\r\n",
        "    if tuple(item.tolist()) in joint_p:\r\n",
        "      joint_p[tuple(item.tolist())] += 1\r\n",
        "    else:\r\n",
        "      joint_p[tuple(item.tolist())] = 1\r\n",
        "  print(joint_p)\r\n",
        "  s = sum(joint_p.values()) + 2*alpha\r\n",
        "  p_joint = []\r\n",
        "  for possible_value in possible_values:\r\n",
        "    if(tuple(possible_value) in joint_p):\r\n",
        "      p_joint.append((joint_p[tuple(possible_value)]+alpha)/s)\r\n",
        "    else:\r\n",
        "      p_joint.append(alpha/s)\r\n",
        "  return p_joint"
      ],
      "execution_count": 9,
      "outputs": []
    },
    {
      "cell_type": "code",
      "metadata": {
        "id": "iryisp-sGehY",
        "colab": {
          "base_uri": "https://localhost:8080/"
        },
        "outputId": "e1747f14-9bd2-4668-b5a0-30384b98c892"
      },
      "source": [
        "if(test_exp_paper == 1):\n",
        "  nsamples = 10000\n",
        "  k = 2\n",
        "  d = 2\n",
        "  orig_probs,X_train_coded = create_syn_data_paper(k,d,nsamples,seed)\n",
        "  data = torch.from_numpy(dec_to_bin(X_train_coded,d))\n",
        "  batch_size = 1024\n",
        "  vocab_size = k\n",
        "  sequence_length = d\n",
        "  calculate_joint(data)\n",
        "  print(orig_probs)"
      ],
      "execution_count": 10,
      "outputs": [
        {
          "output_type": "stream",
          "text": [
            "{(0, 1): 5351, (0, 0): 853, (1, 1): 1537, (1, 0): 2259}\n",
            "[0.08219683 0.52725178 0.2306407  0.15991069]\n"
          ],
          "name": "stdout"
        }
      ]
    },
    {
      "cell_type": "code",
      "metadata": {
        "colab": {
          "base_uri": "https://localhost:8080/"
        },
        "id": "65UP-09iL23X",
        "outputId": "b6ee85ad-ed25-4303-e6e1-d06854542ac3"
      },
      "source": [
        "def sample_batch_size_data(data,batch_size):\r\n",
        "  n,d = data.shape\r\n",
        "  chosen_indices = np.random.choice(n,batch_size,replace=False)\r\n",
        "  return data[chosen_indices,:]\r\n",
        "sample_batch_size_data(data,10)"
      ],
      "execution_count": 11,
      "outputs": [
        {
          "output_type": "execute_result",
          "data": {
            "text/plain": [
              "tensor([[0, 1],\n",
              "        [1, 1],\n",
              "        [0, 1],\n",
              "        [0, 1],\n",
              "        [1, 0],\n",
              "        [1, 0],\n",
              "        [0, 0],\n",
              "        [0, 0],\n",
              "        [0, 0],\n",
              "        [0, 1]], dtype=torch.uint8)"
            ]
          },
          "metadata": {
            "tags": []
          },
          "execution_count": 11
        }
      ]
    },
    {
      "cell_type": "markdown",
      "metadata": {
        "id": "JxlpIE2Scxpm"
      },
      "source": [
        "## Generating the training data. A 2D Mixture of 8 Gaussians. \n",
        "Storing the data as variable \"data\" which will then be sampled from. "
      ]
    },
    {
      "cell_type": "code",
      "metadata": {
        "id": "TacxqkeKcxpm"
      },
      "source": [
        "def sample_quantized_gaussian_mixture(batch_size):\n",
        "    \"\"\"Samples data from a 2D quantized mixture of Gaussians.\n",
        "    This is a quantized version of the mixture of Gaussians experiment from the\n",
        "    Unrolled GANS paper (Metz et al., 2017).\n",
        "    Args:\n",
        "        batch_size: The total number of observations.\n",
        "    Returns:\n",
        "        Tensor with shape `[batch_size, 2]`, where each entry is in\n",
        "            `{0, 1, ..., max_quantized_value - 1}`, a rounded sample from a mixture\n",
        "            of Gaussians.\n",
        "    \"\"\"\n",
        "    clusters = np.array([[2., 0.], [np.sqrt(2), np.sqrt(2)],\n",
        "                                             [0., 2.], [-np.sqrt(2), np.sqrt(2)],\n",
        "                                             [-2., 0.], [-np.sqrt(2), -np.sqrt(2)],\n",
        "                                             [0., -2.], [np.sqrt(2), -np.sqrt(2)]])\n",
        "    assignments = torch.distributions.OneHotCategorical(\n",
        "            logits=torch.zeros(8, dtype = torch.float32)).sample([batch_size])\n",
        "    means = torch.matmul(assignments, torch.from_numpy(clusters).float())\n",
        "\n",
        "    samples = torch.distributions.normal.Normal(loc=means, scale=0.1).sample()\n",
        "    clipped_samples = torch.clamp(samples, -2.25, 2.25)\n",
        "    quantized_samples = (torch.round(clipped_samples * 20) + 45).long()\n",
        "    return quantized_samples"
      ],
      "execution_count": 12,
      "outputs": []
    },
    {
      "cell_type": "code",
      "metadata": {
        "id": "37hHWId7cxpm"
      },
      "source": [
        "if(test_exp_paper == 0):\n",
        "  batch_size, sequence_length, vocab_size = 1024, 2, 91\n",
        "  data = sample_quantized_gaussian_mixture(batch_size)"
      ],
      "execution_count": 13,
      "outputs": []
    },
    {
      "cell_type": "code",
      "metadata": {
        "colab": {
          "base_uri": "https://localhost:8080/",
          "height": 300
        },
        "id": "bf4kJ6hoh17v",
        "outputId": "8a8e8a48-4d3f-4f6e-d20a-4d1e4bfd1e91"
      },
      "source": [
        "print(data[:,1])\n",
        "plt.scatter(data[:,0],data[:,1])"
      ],
      "execution_count": 14,
      "outputs": [
        {
          "output_type": "stream",
          "text": [
            "tensor([1, 1, 0,  ..., 1, 1, 1], dtype=torch.uint8)\n"
          ],
          "name": "stdout"
        },
        {
          "output_type": "execute_result",
          "data": {
            "text/plain": [
              "<matplotlib.collections.PathCollection at 0x7f4b89fafba8>"
            ]
          },
          "metadata": {
            "tags": []
          },
          "execution_count": 14
        },
        {
          "output_type": "display_data",
          "data": {
            "image/png": "[encoded data removed]",
            "text/plain": [
              "<Figure size 432x288 with 1 Axes>"
            ]
          },
          "metadata": {
            "tags": [],
            "needs_background": "light"
          }
        }
      ]
    },
    {
      "cell_type": "code",
      "metadata": {
        "colab": {
          "base_uri": "https://localhost:8080/",
          "height": 511
        },
        "id": "5UTz5spucxpm",
        "outputId": "8a38a904-78c9-4466-e96c-c91556506461"
      },
      "source": [
        "np.set_printoptions(precision=8)\n",
        "figsize = (6, 6)\n",
        "fig = fig = plt.figure(figsize=figsize)\n",
        "ax = fig.add_subplot(1,1,1)\n",
        "#canvas = backend_agg.FigureCanvasAgg(fig)\n",
        "data_prob_table = np.histogramdd(data, bins=vocab_size)\n",
        "print(data_prob_table)\n",
        "print((data_prob_table[0]/np.sum(data_prob_table[0]))[0])\n",
        "print((data_prob_table[0]/np.sum(data_prob_table[0]))[1])\n",
        "print(data_prob_table[0]/np.sum(data_prob_table[0]))\n",
        "ax.imshow(data_prob_table[0]/np.sum(data_prob_table[0]),\n",
        "             cmap=cm.get_cmap(\"Blues\", 6),\n",
        "             origin=\"lower\",\n",
        "             extent=[0, vocab_size, 0, vocab_size],\n",
        "             interpolation=\"nearest\")\n",
        "#fig.show()\n",
        "ax.set_title(\"Data Distribution\")"
      ],
      "execution_count": 15,
      "outputs": [
        {
          "output_type": "stream",
          "text": [
            "(array([[ 853., 5351.],\n",
            "       [2259., 1537.]]), [array([0. , 0.5, 1. ]), array([0. , 0.5, 1. ])])\n",
            "[0.0853 0.5351]\n",
            "[0.2259 0.1537]\n",
            "[[0.0853 0.5351]\n",
            " [0.2259 0.1537]]\n"
          ],
          "name": "stdout"
        },
        {
          "output_type": "execute_result",
          "data": {
            "text/plain": [
              "Text(0.5, 1.0, 'Data Distribution')"
            ]
          },
          "metadata": {
            "tags": []
          },
          "execution_count": 15
        },
        {
          "output_type": "display_data",
          "data": {
            "image/png": "[encoded data removed]",
            "text/plain": [
              "<Figure size 432x432 with 1 Axes>"
            ]
          },
          "metadata": {
            "tags": [],
            "needs_background": "light"
          }
        }
      ]
    },
    {
      "cell_type": "markdown",
      "metadata": {
        "id": "5DjGxqrTcxpn"
      },
      "source": [
        "## Generating the model"
      ]
    },
    {
      "cell_type": "code",
      "metadata": {
        "id": "zSDx4AFqcxpn"
      },
      "source": [
        "num_flows = 1 # number of flow steps. This is different to the number of layers used inside each flow\n",
        "temperature = 0.1 # used for the straight-through gradient estimator. Value taken from the paper\n",
        "disc_layer_type = 'autoreg' #'autoreg' #'bipartite'\n",
        "\n",
        "# This setting was previously used for the MLP and MADE networks. \n",
        "nh = 8 # number of hidden units per layer\n",
        "vector_length = sequence_length*vocab_size #here seq len is 2, vocab size is 91"
      ],
      "execution_count": 16,
      "outputs": []
    },
    {
      "cell_type": "code",
      "metadata": {
        "colab": {
          "base_uri": "https://localhost:8080/"
        },
        "id": "M8R0ahHOcxpn",
        "outputId": "15909086-626c-46d0-fea7-cef73ad9312e"
      },
      "source": [
        "flows = []\n",
        "for i in range(num_flows):\n",
        "    if disc_layer_type == 'autoreg':\n",
        "        \n",
        "        #layer = EmbeddingLayer([batch_size, sequence_length, vocab_size], output_size=vocab_size)\n",
        "        # MADE network is much more powerful. Masked autoregressive flow\n",
        "        layer = MADE([batch_size, sequence_length, vocab_size], vocab_size, [nh, nh, nh])\n",
        "        \n",
        "        disc_layer = DiscreteAutoregressiveFlow( layer, temperature, \n",
        "                                                    vocab_size )\n",
        "    \n",
        "    elif disc_layer_type == 'bipartite':\n",
        "        # MLP will learn the factorized distribution and not perform well. \n",
        "        #layer = MLP(vector_length//2, vector_length//2, nh)\n",
        "        \n",
        "        layer = torch.nn.Embedding(vector_length//2, vector_length//2)\n",
        "        \n",
        "        disc_layer = DiscreteBipartiteFlow(layer, i%2, temperature, \n",
        "                                            vocab_size, vector_length, embedding=True)\n",
        "        # i%2 flips the parity of the masking. It splits the vector in half and alternates\n",
        "        # each flow between changing the first half or the second. \n",
        "    \n",
        "    flows.append(disc_layer)\n",
        "if(use_flows == 1):  \n",
        "  model = DiscreteAutoFlowModel(flows)\n",
        "  print(model)\n",
        "else:\n",
        "  if(disc_layer_type=='autoreg'):\n",
        "    model = MADE([batch_size, sequence_length, vocab_size], vocab_size, [nh, nh, nh])\n",
        "    print(model)"
      ],
      "execution_count": 17,
      "outputs": [
        {
          "output_type": "stream",
          "text": [
            "DiscreteAutoFlowModel(\n",
            "  (flows): ModuleList(\n",
            "    (0): DiscreteAutoregressiveFlow(\n",
            "      (layer): MADE(\n",
            "        (network): Sequential(\n",
            "          (0): MaskedLinear(in_features=4, out_features=8, bias=True)\n",
            "          (1): ReLU()\n",
            "          (2): MaskedLinear(in_features=8, out_features=8, bias=True)\n",
            "          (3): ReLU()\n",
            "          (4): MaskedLinear(in_features=8, out_features=4, bias=True)\n",
            "        )\n",
            "      )\n",
            "    )\n",
            "  )\n",
            ")\n"
          ],
          "name": "stdout"
        }
      ]
    },
    {
      "cell_type": "markdown",
      "metadata": {
        "id": "icgdHEJacxpo"
      },
      "source": [
        "## Making random base probability distribution"
      ]
    },
    {
      "cell_type": "code",
      "metadata": {
        "colab": {
          "base_uri": "https://localhost:8080/",
          "height": 700
        },
        "id": "foBEsRticxpo",
        "outputId": "7ecd35f0-f824-4520-cdfb-0fb36f3f4898"
      },
      "source": [
        "base_log_probs = torch.tensor(torch.randn(sequence_length, vocab_size), requires_grad = True)\n",
        "print(base_log_probs)\n",
        "base = torch.distributions.OneHotCategorical(logits = base_log_probs)\n",
        "samps = base.sample((10000,)).argmax(-1)\n",
        "print(base.sample((10000,)))\n",
        "plt.scatter(samps[:,0], samps[:,1], alpha=0.3)\n",
        "plt.title(\"Prior Distribution\")\n",
        "plt.show()"
      ],
      "execution_count": 18,
      "outputs": [
        {
          "output_type": "stream",
          "text": [
            "tensor([[-0.0716, -0.0909],\n",
            "        [-1.3297, -0.5426]], requires_grad=True)\n",
            "tensor([[[1., 0.],\n",
            "         [0., 1.]],\n",
            "\n",
            "        [[0., 1.],\n",
            "         [1., 0.]],\n",
            "\n",
            "        [[1., 0.],\n",
            "         [0., 1.]],\n",
            "\n",
            "        ...,\n",
            "\n",
            "        [[0., 1.],\n",
            "         [0., 1.]],\n",
            "\n",
            "        [[1., 0.],\n",
            "         [0., 1.]],\n",
            "\n",
            "        [[0., 1.],\n",
            "         [0., 1.]]])\n"
          ],
          "name": "stdout"
        },
        {
          "output_type": "stream",
          "text": [
            "/usr/local/lib/python3.6/dist-packages/ipykernel_launcher.py:1: UserWarning: To copy construct from a tensor, it is recommended to use sourceTensor.clone().detach() or sourceTensor.clone().detach().requires_grad_(True), rather than torch.tensor(sourceTensor).\n",
            "  \"\"\"Entry point for launching an IPython kernel.\n"
          ],
          "name": "stderr"
        },
        {
          "output_type": "display_data",
          "data": {
            "image/png": "[encoded data removed]",
            "text/plain": [
              "<Figure size 432x288 with 1 Axes>"
            ]
          },
          "metadata": {
            "tags": [],
            "needs_background": "light"
          }
        }
      ]
    },
    {
      "cell_type": "markdown",
      "metadata": {
        "id": "59F0wTkDcxpo"
      },
      "source": [
        "## Fit model. \n",
        "NB. A local minima (loss value around 7.3 is learning the factorized distribution). Global optima is somewhere around 6.7. May need to reset the model and base probability distribution in the above cells a few times to get a good result. "
      ]
    },
    {
      "cell_type": "code",
      "metadata": {
        "colab": {
          "base_uri": "https://localhost:8080/"
        },
        "id": "sRX2NPkVII8l",
        "outputId": "5e138ad9-352b-487e-9934-30c8dce08ed1"
      },
      "source": [
        "data.type()\n",
        "data = data.type(torch.int64)\n",
        "print(data.type())"
      ],
      "execution_count": 19,
      "outputs": [
        {
          "output_type": "stream",
          "text": [
            "torch.LongTensor\n"
          ],
          "name": "stdout"
        }
      ]
    },
    {
      "cell_type": "code",
      "metadata": {
        "colab": {
          "base_uri": "https://localhost:8080/"
        },
        "id": "KtYtKyUYObbN",
        "outputId": "cd9e1b33-bcc7-4c33-eb18-59a6d4c52ad2"
      },
      "source": [
        "model.state_dict\r\n"
      ],
      "execution_count": 20,
      "outputs": [
        {
          "output_type": "execute_result",
          "data": {
            "text/plain": [
              "<bound method Module.state_dict of DiscreteAutoFlowModel(\n",
              "  (flows): ModuleList(\n",
              "    (0): DiscreteAutoregressiveFlow(\n",
              "      (layer): MADE(\n",
              "        (network): Sequential(\n",
              "          (0): MaskedLinear(in_features=4, out_features=8, bias=True)\n",
              "          (1): ReLU()\n",
              "          (2): MaskedLinear(in_features=8, out_features=8, bias=True)\n",
              "          (3): ReLU()\n",
              "          (4): MaskedLinear(in_features=8, out_features=4, bias=True)\n",
              "        )\n",
              "      )\n",
              "    )\n",
              "  )\n",
              ")>"
            ]
          },
          "metadata": {
            "tags": []
          },
          "execution_count": 20
        }
      ]
    },
    {
      "cell_type": "code",
      "metadata": {
        "colab": {
          "base_uri": "https://localhost:8080/",
          "height": 805
        },
        "id": "jsAFwDfFcxpo",
        "outputId": "bf2db728-590f-4452-bc83-311db9536a4d"
      },
      "source": [
        "epochs = 1500\n",
        "learning_rate = 0.01\n",
        "print_loss_every = epochs//10\n",
        "min_loss =  10**6\n",
        "losses = []\n",
        "optimizer = torch.optim.Adam( \n",
        "        [\n",
        "            {'params': model.parameters() , 'lr':learning_rate},\n",
        "            {'params': base_log_probs, 'lr': learning_rate }\n",
        "        ])\n",
        "\n",
        "model.train()\n",
        "for e in range(epochs):\n",
        "    if(test_exp_paper == 0):\n",
        "      x = sample_quantized_gaussian_mixture(batch_size)\n",
        "    else:\n",
        "      x = sample_batch_size_data(data,batch_size)\n",
        "    x = F.one_hot(x, num_classes = vocab_size).float()\n",
        "\n",
        "    if disc_layer_type == 'bipartite':\n",
        "        x= x.view(x.shape[0], -1) #flattening vector\n",
        "\n",
        "\n",
        "    optimizer.zero_grad()\n",
        "    zs = model.forward(x)\n",
        "   \n",
        "    if disc_layer_type == 'bipartite':\n",
        "        zs = zs.view(batch_size, sequence_length, -1) # adding back in sequence dimension\n",
        "\n",
        "    base_log_probs_sm = torch.nn.functional.log_softmax(base_log_probs, dim=-1)\n",
        "\n",
        "    #print(zs.shape, base_log_probs_sm.shape)\n",
        "    logprob = zs*base_log_probs_sm # zs are onehot so zero out all other logprobs \n",
        "    \n",
        "    loss = -torch.sum(logprob)/batch_size\n",
        "    if(loss<min_loss):\n",
        "      print(\"A new minimum loss is achieved, saving the model's state\")\n",
        "      min_loss = loss\n",
        "      torch.save({\n",
        "            'epoch': e,\n",
        "            'model_state_dict': model.state_dict(),\n",
        "            'optimizer_state_dict': optimizer.state_dict(),\n",
        "            'loss': loss}, STATE_PATH)\n",
        "    loss.backward()\n",
        "    optimizer.step()\n",
        "    \n",
        "    losses.append(loss.item())\n",
        "    \n",
        "    if e%print_loss_every==0:\n",
        "        print('epoch:', e, 'loss:', loss.item())\n",
        "print(loss)\n",
        "plt.plot(losses)"
      ],
      "execution_count": 21,
      "outputs": [
        {
          "output_type": "stream",
          "text": [
            "A new minimum loss is achieved, saving the model's state\n",
            "epoch: 0 loss: 1.2446712255477905\n",
            "A new minimum loss is achieved, saving the model's state\n",
            "A new minimum loss is achieved, saving the model's state\n"
          ],
          "name": "stdout"
        },
        {
          "output_type": "stream",
          "text": [
            "/content/gdrive/My Drive/discrete_flows/PyTorchDiscreteFlows/discrete_flows/disc_utils.py:119: UserWarning: The function torch.fft is deprecated and will be removed in PyTorch 1.8. Use the new torch.fft module functions, instead, by importing torch.fft and calling torch.fft.fft or torch.fft.fftn. (Triggered internally at  /pytorch/aten/src/ATen/native/SpectralOps.cpp:567.)\n",
            "  inputs_fft = torch.fft(inputs, 1) #ignore last and first dimension to do batched fft\n",
            "/content/gdrive/My Drive/discrete_flows/PyTorchDiscreteFlows/discrete_flows/disc_utils.py:124: UserWarning: The function torch.ifft is deprecated and will be removed in a future PyTorch release. Use the new torch.fft module functions, instead, by importing torch.fft and calling torch.fft.ifft or torch.fft.ifftn. (Triggered internally at  /pytorch/aten/src/ATen/native/SpectralOps.cpp:578.)\n",
            "  return torch.ifft(result_fft, 1)[...,0] #return only the real part\n"
          ],
          "name": "stderr"
        },
        {
          "output_type": "stream",
          "text": [
            "A new minimum loss is achieved, saving the model's state\n",
            "A new minimum loss is achieved, saving the model's state\n",
            "A new minimum loss is achieved, saving the model's state\n",
            "A new minimum loss is achieved, saving the model's state\n",
            "A new minimum loss is achieved, saving the model's state\n",
            "A new minimum loss is achieved, saving the model's state\n",
            "A new minimum loss is achieved, saving the model's state\n",
            "A new minimum loss is achieved, saving the model's state\n",
            "epoch: 150 loss: 1.2149980068206787\n",
            "epoch: 300 loss: 1.2221366167068481\n",
            "epoch: 450 loss: 1.2276865243911743\n",
            "A new minimum loss is achieved, saving the model's state\n",
            "A new minimum loss is achieved, saving the model's state\n",
            "epoch: 600 loss: 1.1640568971633911\n",
            "A new minimum loss is achieved, saving the model's state\n",
            "epoch: 750 loss: 1.2108252048492432\n",
            "epoch: 900 loss: 1.2263269424438477\n",
            "epoch: 1050 loss: 1.241919755935669\n",
            "epoch: 1200 loss: 1.1885859966278076\n",
            "epoch: 1350 loss: 1.1930463314056396\n",
            "tensor(1.2243, grad_fn=<DivBackward0>)\n"
          ],
          "name": "stdout"
        },
        {
          "output_type": "execute_result",
          "data": {
            "text/plain": [
              "[<matplotlib.lines.Line2D at 0x7f4b891c9940>]"
            ]
          },
          "metadata": {
            "tags": []
          },
          "execution_count": 21
        },
        {
          "output_type": "display_data",
          "data": {
            "image/png": "[encoded data removed]",
            "text/plain": [
              "<Figure size 432x288 with 1 Axes>"
            ]
          },
          "metadata": {
            "tags": [],
            "needs_background": "light"
          }
        }
      ]
    },
    {
      "cell_type": "code",
      "metadata": {
        "colab": {
          "base_uri": "https://localhost:8080/"
        },
        "id": "0_LJZIOCQp8k",
        "outputId": "599df996-cb88-4266-f46a-1717ef8e45ce"
      },
      "source": [
        "print(\"Loading the model's state that achieved minimum loss\")\r\n",
        "model = DiscreteAutoFlowModel(flows)\r\n",
        "optimizer = torch.optim.Adam( \r\n",
        "        [\r\n",
        "            {'params': model.parameters() , 'lr':learning_rate},\r\n",
        "            {'params': base_log_probs, 'lr': learning_rate }\r\n",
        "        ])\r\n",
        "\r\n",
        "checkpoint = torch.load(STATE_PATH)\r\n",
        "model.load_state_dict(checkpoint['model_state_dict'])\r\n",
        "optimizer.load_state_dict(checkpoint['optimizer_state_dict'])\r\n",
        "epoch = checkpoint['epoch']\r\n",
        "loss = checkpoint['loss']\r\n",
        "model.eval()\r\n",
        "print(\"This corresponded to a loss of \"+str(loss.item())+\" at epoch \"+str(epoch))"
      ],
      "execution_count": 22,
      "outputs": [
        {
          "output_type": "stream",
          "text": [
            "Loading the model's state that achieved minimum loss\n",
            "This corresponded to a loss of 1.159274935722351 at epoch 604\n"
          ],
          "name": "stdout"
        }
      ]
    },
    {
      "cell_type": "code",
      "metadata": {
        "colab": {
          "base_uri": "https://localhost:8080/",
          "height": 1000
        },
        "id": "qj8wppPacxpo",
        "outputId": "31921b68-59ea-4859-d1ba-372a3aa5d6d3"
      },
      "source": [
        "\n",
        "data_distribution = torch.distributions.OneHotCategorical(logits=base_log_probs)\n",
        "print(data_distribution.probs)\n",
        "samples = data_distribution.sample([batch_size])\n",
        "if disc_layer_type == 'bipartite':\n",
        "    samples = samples.view(samples.shape[0], -1)\n",
        "samples = model.reverse(samples)\n",
        "if disc_layer_type == 'bipartite':\n",
        "    samples = samples.view(batch_size, sequence_length, -1)\n",
        "data_samples = torch.argmax(samples, axis=-1).detach().numpy()\n",
        "print(\"Shape of data samples\")\n",
        "print(data_samples.shape)\n",
        "print(\"Example of data samples\")\n",
        "print(data_samples[0:10,:])\n",
        "figsize = (16, 8)\n",
        "fig = plt.figure(figsize=figsize)\n",
        "ax1 = fig.add_subplot(1, 3, 1)\n",
        "ax2 = fig.add_subplot(1, 3, 2)\n",
        "ax3 = fig.add_subplot(1, 3, 3)\n",
        "fig2 = plt.figure(figsize=figsize)\n",
        "ax4 = fig2.add_subplot(2, 2, 1)\n",
        "ax5 = fig2.add_subplot(2, 2, 2)\n",
        "data_prob_table = np.histogramdd(data, bins=vocab_size)\n",
        "print(\"Probability table from original data\")\n",
        "orig_probs_arr = np.array([orig_probs[0:2],orig_probs[2:]])\n",
        "print(orig_probs_arr)\n",
        "ax1.imshow(orig_probs_arr,\n",
        "         cmap=cm.get_cmap(\"Blues\", 6),\n",
        "         origin=\"lower\",\n",
        "         extent=[0, vocab_size, 0, vocab_size],\n",
        "         interpolation=\"nearest\")\n",
        "ax1.set_title(\"Data Distribution\")\n",
        "ax2.set_title(\"{} ({} {} Flows) joint prob from data\".format(\n",
        "  \"factorized\".replace(\"_\", \" \").title(),\n",
        "  \"embedding\".title(),\n",
        "  num_flows))\n",
        "\n",
        "learned_prob_table = np.histogramdd(data_samples, bins=vocab_size)\n",
        "print(\"Learned joint Probability table using flows\")\n",
        "joint_prob_flows = learned_prob_table[0]/np.sum(learned_prob_table[0])\n",
        "print(joint_prob_flows)\n",
        "ax2.imshow(joint_prob_flows,\n",
        "         cmap=cm.get_cmap(\"Blues\", 6),\n",
        "         origin=\"lower\",\n",
        "         extent=[0, vocab_size, 0, vocab_size],\n",
        "         interpolation=\"nearest\")\n",
        "fig.show()\n",
        "plt.gcf().savefig('figures/Fig2Reproduce.png', dpi=250)\n",
        "\n",
        "ax3.set_title(\"Joint prob directly from samples (no flows)\")\n",
        "learned_prob_table = np.histogramdd(data, bins=vocab_size)\n",
        "print(\"Learned joint Probability table not using flows\")\n",
        "joint_prob_no_flows = learned_prob_table[0]/np.sum(learned_prob_table[0])\n",
        "print(joint_prob_no_flows)\n",
        "ax3.imshow(joint_prob_no_flows,\n",
        "         cmap=cm.get_cmap(\"Blues\", 6),\n",
        "         origin=\"lower\",\n",
        "         extent=[0, vocab_size, 0, vocab_size],\n",
        "         interpolation=\"nearest\")\n",
        "fig.show()\n",
        "\n",
        "#learned probability by marginals\n",
        "[p_x1_1,p_x2_1]=np.mean(data_samples,axis = 0)\n",
        "vec1 = [1-p_x1_1,p_x1_1]\n",
        "vec2 = [1-p_x2_1,p_x2_1]\n",
        "learned_prob_from_marginals_flows = np.outer(vec1,vec2)\n",
        "print(\"Learned Probability table from Marginals\")\n",
        "print(learned_prob_from_marginals_flows)\n",
        "ax4.imshow(learned_prob_from_marginals_flows,\n",
        "         cmap=cm.get_cmap(\"Blues\", 6),\n",
        "         origin=\"lower\",\n",
        "         extent=[0, vocab_size, 0, vocab_size],\n",
        "         interpolation=\"nearest\")\n",
        "ax4.set_title(\"Joint Distribution learned from marginals using flows\")\n",
        "fig2.show()\n",
        "\n",
        "#learned probability by marginals\n",
        "[p_x1_1,p_x2_1]=np.mean(data.numpy(),axis = 0)\n",
        "vec1 = [1-p_x1_1,p_x1_1]\n",
        "vec2 = [1-p_x2_1,p_x2_1]\n",
        "learned_prob_from_marginals_no_flows = np.outer(vec1,vec2)\n",
        "print(\"Learned Probability table from Marginals not using flows\")\n",
        "print(learned_prob_from_marginals_no_flows)\n",
        "\n",
        "ax5.imshow(learned_prob_from_marginals_no_flows,\n",
        "         cmap=cm.get_cmap(\"Blues\", 6),\n",
        "         origin=\"lower\",\n",
        "         extent=[0, vocab_size, 0, vocab_size],\n",
        "         interpolation=\"nearest\")\n",
        "ax5.set_title(\"Distribution learned from marginals not using flows\")\n",
        "fig2.show()\n",
        "plt.gcf().savefig('figures/Fig2Reproduce.png', dpi=250)"
      ],
      "execution_count": 23,
      "outputs": [
        {
          "output_type": "stream",
          "text": [
            "tensor([[0.6327, 0.3673],\n",
            "        [0.2420, 0.7580]], grad_fn=<SoftmaxBackward>)\n",
            "Shape of data samples\n",
            "(1024, 2)\n",
            "Example of data samples\n",
            "[[0 0]\n",
            " [1 0]\n",
            " [0 0]\n",
            " [1 0]\n",
            " [1 1]\n",
            " [1 0]\n",
            " [1 1]\n",
            " [0 0]\n",
            " [0 0]\n",
            " [1 1]]\n",
            "Probability table from original data\n",
            "[[0.08219683 0.52725178]\n",
            " [0.2306407  0.15991069]]\n",
            "Learned joint Probability table using flows\n",
            "[[0.15820312 0.484375  ]\n",
            " [0.26660156 0.09082031]]\n",
            "Learned joint Probability table not using flows\n",
            "[[0.0853 0.5351]\n",
            " [0.2259 0.1537]]\n",
            "Learned Probability table from Marginals\n",
            "[[0.2729702  0.36960793]\n",
            " [0.15183449 0.20558739]]\n",
            "Learned Probability table from Marginals not using flows\n",
            "[[0.19306848 0.42733152]\n",
            " [0.11813152 0.26146848]]\n"
          ],
          "name": "stdout"
        },
        {
          "output_type": "display_data",
          "data": {
            "image/png": "[encoded data removed]",
            "text/plain": [
              "<Figure size 1152x576 with 3 Axes>"
            ]
          },
          "metadata": {
            "tags": [],
            "needs_background": "light"
          }
        },
        {
          "output_type": "display_data",
          "data": {
            "image/png": "[encoded data removed]",
            "text/plain": [
              "<Figure size 1152x576 with 2 Axes>"
            ]
          },
          "metadata": {
            "tags": [],
            "needs_background": "light"
          }
        }
      ]
    },
    {
      "cell_type": "code",
      "metadata": {
        "colab": {
          "base_uri": "https://localhost:8080/"
        },
        "id": "MVrJZkzvmRj7",
        "outputId": "26b2d3a8-5112-4556-ee0e-d26028c2968a"
      },
      "source": [
        "def kl_divergence(p, q):\r\n",
        "\treturn sum(p[i] * np.log(p[i]/q[i]) for i in range(len(p)))\r\n",
        "#orig_probs the probablities we used for generating the data\r\n",
        "#flatten the learned probabilities by row\r\n",
        "\r\n",
        "kl1 = kl_divergence(orig_probs,joint_prob_flows.flatten())\r\n",
        "kl2 = kl_divergence(orig_probs,joint_prob_no_flows.flatten())\r\n",
        "print(\"kl divergence between original probabilities and joint probs learned using flows is \"+str(kl1))\r\n",
        "print(\"kl divergence between original probabilities and joint probs learned not using flows is \"+str(kl2))\r\n",
        "kl3 = kl_divergence(orig_probs,learned_prob_from_marginals_flows.flatten())\r\n",
        "kl4 = kl_divergence(orig_probs,learned_prob_from_marginals_no_flows.flatten())\r\n",
        "print(\"kl divergence between original probabilities and the calculated joint prob from the marginals using flows is \"+str(kl3))\r\n",
        "print(\"kl divergence between original probabilities and the calculated joint prob from the marginals not using flows is \"+str(kl4))\r\n"
      ],
      "execution_count": 24,
      "outputs": [
        {
          "output_type": "stream",
          "text": [
            "kl divergence between original probabilities and joint probs learned using flows is 0.04794959164205843\n",
            "kl divergence between original probabilities and joint probs learned not using flows is 0.0002882037075050189\n",
            "kl divergence between original probabilities and the calculated joint prob from the marginals using flows is 0.14488759444466948\n",
            "kl divergence between original probabilities and the calculated joint prob from the marginals not using flows is 0.11628018334494816\n"
          ],
          "name": "stdout"
        }
      ]
    }
  ]
}